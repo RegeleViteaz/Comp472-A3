{
 "cells": [
  {
   "cell_type": "markdown",
   "id": "6c986d23",
   "metadata": {},
   "source": [
    "# Mini-Project 3"
   ]
  },
  {
   "cell_type": "code",
   "execution_count": 187,
   "id": "6dd5882a",
   "metadata": {},
   "outputs": [],
   "source": [
    "import gensim\n",
    "import gensim.downloader as api  # load \n",
    "from gensim.similarities import Similarity #\n",
    "import pandas as pd\n",
    "import numpy as np\n",
    "import matplotlib.pyplot as plt\n",
    "import random"
   ]
  },
  {
   "cell_type": "markdown",
   "id": "96ff65f1",
   "metadata": {},
   "source": [
    "## Loading Data"
   ]
  },
  {
   "cell_type": "markdown",
   "id": "9f40d26a",
   "metadata": {},
   "source": [
    "#### Load the word2vec-google-news-300 pretrained embedding model"
   ]
  },
  {
   "cell_type": "code",
   "execution_count": 188,
   "id": "642be64d",
   "metadata": {},
   "outputs": [],
   "source": [
    "word2vec_300 = api.load(\"word2vec-google-news-300\")"
   ]
  },
  {
   "cell_type": "markdown",
   "id": "d9492f4a",
   "metadata": {},
   "source": [
    "#### Loading synonyms"
   ]
  },
  {
   "cell_type": "code",
   "execution_count": 189,
   "id": "d3b533ce",
   "metadata": {},
   "outputs": [],
   "source": [
    "synonyms = pd.read_csv(\"synonyms.csv\")"
   ]
  },
  {
   "cell_type": "code",
   "execution_count": 190,
   "id": "47cb89de",
   "metadata": {},
   "outputs": [],
   "source": [
    "# our own test case\n",
    "synonyms1 = pd.read_csv(\"synonyms1.csv\")"
   ]
  },
  {
   "cell_type": "code",
   "execution_count": 191,
   "id": "4bf61da7",
   "metadata": {
    "scrolled": true
   },
   "outputs": [
    {
     "data": {
      "text/html": [
       "<div>\n",
       "<style scoped>\n",
       "    .dataframe tbody tr th:only-of-type {\n",
       "        vertical-align: middle;\n",
       "    }\n",
       "\n",
       "    .dataframe tbody tr th {\n",
       "        vertical-align: top;\n",
       "    }\n",
       "\n",
       "    .dataframe thead th {\n",
       "        text-align: right;\n",
       "    }\n",
       "</style>\n",
       "<table border=\"1\" class=\"dataframe\">\n",
       "  <thead>\n",
       "    <tr style=\"text-align: right;\">\n",
       "      <th></th>\n",
       "      <th>question</th>\n",
       "      <th>answer</th>\n",
       "      <th>0</th>\n",
       "      <th>1</th>\n",
       "      <th>2</th>\n",
       "      <th>3</th>\n",
       "    </tr>\n",
       "  </thead>\n",
       "  <tbody>\n",
       "    <tr>\n",
       "      <th>0</th>\n",
       "      <td>enormously</td>\n",
       "      <td>tremendously</td>\n",
       "      <td>appropriately</td>\n",
       "      <td>uniquely</td>\n",
       "      <td>tremendously</td>\n",
       "      <td>decidedly</td>\n",
       "    </tr>\n",
       "    <tr>\n",
       "      <th>1</th>\n",
       "      <td>provisions</td>\n",
       "      <td>stipulations</td>\n",
       "      <td>stipulations</td>\n",
       "      <td>interrelations</td>\n",
       "      <td>jurisdictions</td>\n",
       "      <td>interpretations</td>\n",
       "    </tr>\n",
       "    <tr>\n",
       "      <th>2</th>\n",
       "      <td>haphazardly</td>\n",
       "      <td>randomly</td>\n",
       "      <td>dangerously</td>\n",
       "      <td>densely</td>\n",
       "      <td>randomly</td>\n",
       "      <td>linearly</td>\n",
       "    </tr>\n",
       "    <tr>\n",
       "      <th>3</th>\n",
       "      <td>prominent</td>\n",
       "      <td>conspicuous</td>\n",
       "      <td>battered</td>\n",
       "      <td>ancient</td>\n",
       "      <td>mysterious</td>\n",
       "      <td>conspicuous</td>\n",
       "    </tr>\n",
       "    <tr>\n",
       "      <th>4</th>\n",
       "      <td>zenith</td>\n",
       "      <td>pinnacle</td>\n",
       "      <td>completion</td>\n",
       "      <td>pinnacle</td>\n",
       "      <td>outset</td>\n",
       "      <td>decline</td>\n",
       "    </tr>\n",
       "  </tbody>\n",
       "</table>\n",
       "</div>"
      ],
      "text/plain": [
       "      question        answer              0               1              2  \\\n",
       "0   enormously  tremendously  appropriately        uniquely   tremendously   \n",
       "1   provisions  stipulations   stipulations  interrelations  jurisdictions   \n",
       "2  haphazardly      randomly    dangerously         densely       randomly   \n",
       "3    prominent   conspicuous       battered         ancient     mysterious   \n",
       "4       zenith      pinnacle     completion        pinnacle         outset   \n",
       "\n",
       "                 3  \n",
       "0        decidedly  \n",
       "1  interpretations  \n",
       "2         linearly  \n",
       "3      conspicuous  \n",
       "4          decline  "
      ]
     },
     "execution_count": 191,
     "metadata": {},
     "output_type": "execute_result"
    }
   ],
   "source": [
    "synonyms.head()"
   ]
  },
  {
   "cell_type": "markdown",
   "id": "e1fbf030",
   "metadata": {},
   "source": [
    "#### Vocab"
   ]
  },
  {
   "cell_type": "code",
   "execution_count": 274,
   "id": "a225b068",
   "metadata": {},
   "outputs": [],
   "source": [
    "# vocab  \n",
    "vocab = word2vec_300.index_to_key "
   ]
  },
  {
   "cell_type": "markdown",
   "id": "47c3b128",
   "metadata": {},
   "source": [
    "#### Create output files"
   ]
  },
  {
   "cell_type": "code",
   "execution_count": 275,
   "id": "f20893ac",
   "metadata": {},
   "outputs": [],
   "source": [
    "## file\n",
    "f = open(\"word2vec-google-news-300-details.csv\", \"w\")\n",
    "f.close()"
   ]
  },
  {
   "cell_type": "code",
   "execution_count": 276,
   "id": "15c18437",
   "metadata": {},
   "outputs": [],
   "source": [
    "f = open(\"analysis.csv\", \"w\")\n",
    "f.write(\"model\"+\",\"+\"Vocab Size\"+\",\"+\"correc label\"+\",\"\"answered without guessing\"+\",\"+\"accuracy\"+\"\\n\")\n",
    "\n",
    "f.close()"
   ]
  },
  {
   "cell_type": "markdown",
   "id": "48a4ccf7",
   "metadata": {},
   "source": [
    "## Some test cases"
   ]
  },
  {
   "cell_type": "code",
   "execution_count": 240,
   "id": "aaf13a0d",
   "metadata": {},
   "outputs": [
    {
     "data": {
      "text/plain": [
       "[('vehicle', 0.7821096181869507),\n",
       " ('cars', 0.7423830032348633),\n",
       " ('SUV', 0.7160962224006653),\n",
       " ('minivan', 0.6907036304473877),\n",
       " ('truck', 0.6735789775848389),\n",
       " ('Car', 0.6677608489990234),\n",
       " ('Ford_Focus', 0.6673202514648438),\n",
       " ('Honda_Civic', 0.6626849174499512),\n",
       " ('Jeep', 0.651133120059967),\n",
       " ('pickup_truck', 0.6441437602043152)]"
      ]
     },
     "execution_count": 240,
     "metadata": {},
     "output_type": "execute_result"
    }
   ],
   "source": [
    "word2vec_300.most_similar(\"car\")"
   ]
  },
  {
   "cell_type": "code",
   "execution_count": 196,
   "id": "ce05eb29",
   "metadata": {},
   "outputs": [
    {
     "data": {
      "text/plain": [
       "1.0"
      ]
     },
     "execution_count": 196,
     "metadata": {},
     "output_type": "execute_result"
    }
   ],
   "source": [
    "word2vec_300.similarity('car', 'car'  )"
   ]
  },
  {
   "cell_type": "code",
   "execution_count": 197,
   "id": "c3c0e28e",
   "metadata": {},
   "outputs": [
    {
     "data": {
      "text/plain": [
       "0.43913448"
      ]
     },
     "execution_count": 197,
     "metadata": {},
     "output_type": "execute_result"
    }
   ],
   "source": [
    "word2vec_300.similarity('car', 'Auto'  ) #?"
   ]
  },
  {
   "cell_type": "markdown",
   "id": "94678917",
   "metadata": {},
   "source": [
    "## Task 1 ( Evaluation of the word2vec-google-news-300 Pre-trained Model )"
   ]
  },
  {
   "cell_type": "markdown",
   "id": "5c506517",
   "metadata": {},
   "source": [
    "### Part 1 of task 1 ( predict the synonym and append the result of questions to csv file)"
   ]
  },
  {
   "cell_type": "code",
   "execution_count": 277,
   "id": "c675b6ed",
   "metadata": {
    "scrolled": true
   },
   "outputs": [
    {
     "name": "stdout",
     "output_type": "stream",
     "text": [
      "enormously,tremendously,tremendously,correct\n",
      "provisions,stipulations,stipulations,correct\n",
      "haphazardly,randomly,randomly,correct\n",
      "prominent,conspicuous,conspicuous,correct\n",
      "zenith,pinnacle,pinnacle,correct\n",
      "flawed,imperfect,imperfect,correct\n",
      "urgently,desperately,desperately,correct\n",
      "consumed,eaten,eaten,correct\n",
      "advent,coming,coming,correct\n",
      "concisely,succinctly,succinctly,correct\n",
      "salutes,greetings,ceremonies,wrong\n",
      "solitary,alone,restless,wrong\n",
      "hasten,accelerate,accelerate,correct\n",
      "perseverance,endurance,generosity,wrong\n",
      "fanciful,imaginative,imaginative,correct\n",
      "showed,demonstrated,demonstrated,correct\n",
      "constantly,continually,continually,correct\n",
      "issues,subjects,subjects,correct\n",
      "furnish,supply,impress,wrong\n",
      "costly,expensive,expensive,correct\n",
      "recognized,acknowledged,acknowledged,correct\n",
      "spot,location,location,correct\n",
      "make,earn,earn,correct\n",
      "often,frequently,frequently,correct\n",
      "easygoing,relaxed,relaxed,correct\n",
      "debate,argument,argument,correct\n",
      "narrow,thin,thin,correct\n",
      "arranged,planned,planned,correct\n",
      "infinite,limitless,limitless,correct\n",
      "showy,striking,prickly,wrong\n",
      "levied,imposed,imposed,correct\n",
      "deftly,skillfully,skillfully,correct\n",
      "distribute,circulate,commercialize,wrong\n",
      "discrepancies,differences,differences,correct\n",
      "prolific,productive,productive,correct\n",
      "unmatched,unequaled,unequaled,correct\n",
      "peculiarly,uniquely,uniquely,correct\n",
      "hue,color,color,correct\n",
      "hind,rear,rear,correct\n",
      "highlight,accentuate,accentuate,correct\n",
      "hastily,hurriedly,hurriedly,correct\n",
      "temperate,mild,mild,correct\n",
      "grin,smile,smile,correct\n",
      "verbally,orally,orally,correct\n",
      "physician,doctor,doctor,correct\n",
      "essentially,basically,basically,correct\n",
      "keen,sharp,useful,wrong\n",
      "situated,positioned,positioned,correct\n",
      "principal,major,major,correct\n",
      "slowly,gradually,gradually,correct\n",
      "built,constructed,constructed,correct\n",
      "tasks,jobs,jobs,correct\n",
      "unlikely,improbable,improbable,correct\n",
      "halfheartedly,apathetically,apathetically,correct\n",
      "annals,chronicles,chronicles,correct\n",
      "wildly,furiously,furiously,correct\n",
      "hailed,acclaimed,remembered,wrong\n",
      "command,mastery,mastery,correct\n",
      "concocted,devised,devised,correct\n",
      "prospective,potential,potential,correct\n",
      "generally,broadly,broadly,correct\n",
      "sustained,prolonged,prolonged,correct\n",
      "perilous,dangerous,dangerous,correct\n",
      "tranquillity,peacefulness,peacefulness,guess\n",
      "dissipate,disperse,disperse,correct\n",
      "primarily,chiefly,chiefly,correct\n",
      "colloquial,conversational,conversational,correct\n",
      "resolved,settled,settled,correct\n",
      "feasible,possible,possible,correct\n",
      "expeditiously,rapidly,rapidly,correct\n",
      "percentage,proportion,proportion,correct\n",
      "terminated,ended,postponed,wrong\n",
      "uniform,alike,alike,correct\n",
      "figure,solve,solve,correct\n",
      "sufficient,enough,enough,correct\n",
      "fashion,manner,manner,correct\n",
      "marketed,sold,sold,correct\n",
      "bigger,larger,larger,correct\n",
      "roots,origins,origins,correct\n",
      "normally,ordinarily,ordinarily,correct\n"
     ]
    }
   ],
   "source": [
    "total_correct = 0\n",
    "total_guess = 0\n",
    "\n",
    "f = open(\"word2vec-google-news-300-details.csv\", \"a\")\n",
    "for i, row in synonyms.iterrows():\n",
    "    answer = row[1]\n",
    "    question = row[0]\n",
    "    predict = row[(random.randint(2, 5))]\n",
    "    if(row[0] in vocab):\n",
    "        q= np.array( [word2vec_300.similarity(question,  word ) if word in vocab else -1000 for word in (row[2:])] )\n",
    "        max =np.argmax(q)\n",
    "        if (q[max] != -1000):\n",
    "                predict = row[max+2]\n",
    "                if predict == answer:\n",
    "                    total_correct += 1\n",
    "                    f.write(question+\",\"+answer+\",\"+predict+\",correct\\n\")\n",
    "                    print(f'{question},{answer},{predict},correct')\n",
    "                else:\n",
    "                    f.write(question+\",\"+answer+\",\"+predict+\",wrong\\n\")\n",
    "                    print(f'{question},{answer},{predict},wrong')\n",
    "        else:\n",
    "            total_guess += 1\n",
    "            f.write(question+\",\"+answer+\",\"+predict+\",guess\\n\")\n",
    "            print(f'{question},{answer},{predict},guess')\n",
    "            \n",
    "    else:\n",
    "        total_guess += 1\n",
    "        f.write(question+\",\"+answer+\",\"+predict+\",guess\\n\")\n",
    "        print(f'{question},{answer},{predict},guess')\n",
    "                \n",
    "        \n",
    "f.close()               "
   ]
  },
  {
   "cell_type": "markdown",
   "id": "b593963c",
   "metadata": {},
   "source": [
    "### Part 2 of task 1 (analysis.csv)"
   ]
  },
  {
   "cell_type": "markdown",
   "id": "0227bc13",
   "metadata": {},
   "source": [
    "#### Model name"
   ]
  },
  {
   "cell_type": "code",
   "execution_count": 278,
   "id": "a2b8080d",
   "metadata": {},
   "outputs": [],
   "source": [
    "model_name = \"word2vec-google-news-300\"\n",
    "vector_size = len(word2vec_300[0])"
   ]
  },
  {
   "cell_type": "markdown",
   "id": "c9ac9095",
   "metadata": {},
   "source": [
    "#### Size of vocabulary"
   ]
  },
  {
   "cell_type": "code",
   "execution_count": 279,
   "id": "af805e29",
   "metadata": {},
   "outputs": [
    {
     "name": "stdout",
     "output_type": "stream",
     "text": [
      "3000000\n"
     ]
    }
   ],
   "source": [
    "g300_vocab_size = len(vocab)\n",
    "print(g300_vocab_size)"
   ]
  },
  {
   "cell_type": "markdown",
   "id": "aaa30a24",
   "metadata": {},
   "source": [
    "#### Number of correct labels"
   ]
  },
  {
   "cell_type": "code",
   "execution_count": 280,
   "id": "86559c12",
   "metadata": {},
   "outputs": [
    {
     "name": "stdout",
     "output_type": "stream",
     "text": [
      "70\n"
     ]
    }
   ],
   "source": [
    "g300_total_correct = total_correct\n",
    "print(g300_total_correct)"
   ]
  },
  {
   "cell_type": "markdown",
   "id": "6d726af0",
   "metadata": {},
   "source": [
    "#### Number of questions answered without guessing"
   ]
  },
  {
   "cell_type": "code",
   "execution_count": 281,
   "id": "ca279552",
   "metadata": {},
   "outputs": [
    {
     "name": "stdout",
     "output_type": "stream",
     "text": [
      "79\n"
     ]
    }
   ],
   "source": [
    "g300_total_no_guess = len(synonyms) - total_guess\n",
    "print(g300_total_no_guess)"
   ]
  },
  {
   "cell_type": "markdown",
   "id": "fe82392a",
   "metadata": {},
   "source": [
    "#### Accuracy of model"
   ]
  },
  {
   "cell_type": "code",
   "execution_count": 282,
   "id": "f330e7be",
   "metadata": {},
   "outputs": [
    {
     "name": "stdout",
     "output_type": "stream",
     "text": [
      "0.8974358974358975\n"
     ]
    }
   ],
   "source": [
    "g300_accuracy = total_correct / total_no_guess\n",
    "print(g300_accuracy)"
   ]
  },
  {
   "cell_type": "code",
   "execution_count": 283,
   "id": "5689f89f",
   "metadata": {},
   "outputs": [],
   "source": [
    "f = open(\"analysis.csv\", \"a\")\n",
    "f.write(model_name+\",\"+repr(g300_vocab_size)+\",\"+repr(g300_total_correct)+\",\"+repr(g300_total_no_guess)+\",\"+repr(g300_accuracy)+\"\\n\")\n",
    "f.close()"
   ]
  },
  {
   "cell_type": "markdown",
   "id": "1eee8e69",
   "metadata": {},
   "source": [
    "## Task 2 (Comparison with Other Pre-trained Models)"
   ]
  },
  {
   "cell_type": "markdown",
   "id": "922abf1a",
   "metadata": {},
   "source": [
    "### Part 1 of task 2  (2 new models from different corpora but same embedding size (=50)"
   ]
  },
  {
   "cell_type": "markdown",
   "id": "cce587ac",
   "metadata": {},
   "source": [
    "### Loading the models"
   ]
  },
  {
   "cell_type": "code",
   "execution_count": 27,
   "id": "48dbc038",
   "metadata": {},
   "outputs": [
    {
     "name": "stdout",
     "output_type": "stream",
     "text": [
      "[==================================================] 100.0% 199.5/199.5MB downloaded\n"
     ]
    }
   ],
   "source": [
    "word2vec_twitr_50 = api.load(\"glove-twitter-50\")\n"
   ]
  },
  {
   "cell_type": "code",
   "execution_count": 28,
   "id": "377f61ff",
   "metadata": {},
   "outputs": [
    {
     "name": "stdout",
     "output_type": "stream",
     "text": [
      "[==================================================] 100.0% 66.0/66.0MB downloaded\n"
     ]
    }
   ],
   "source": [
    "word2vec_wiki_50 = api.load(\"glove-wiki-gigaword-50\")"
   ]
  },
  {
   "cell_type": "code",
   "execution_count": 284,
   "id": "afcf223a",
   "metadata": {},
   "outputs": [],
   "source": [
    "vocab1 = word2vec_twitr_50.index_to_key \n",
    "vocab2 = word2vec_wiki_50.index_to_key "
   ]
  },
  {
   "cell_type": "markdown",
   "id": "6ce02df2",
   "metadata": {},
   "source": [
    "#### Create output files"
   ]
  },
  {
   "cell_type": "code",
   "execution_count": 285,
   "id": "442a32d3",
   "metadata": {},
   "outputs": [],
   "source": [
    "f = open(\"glove-twitter-50-details.csv\", \"w\")\n",
    "f.close()"
   ]
  },
  {
   "cell_type": "code",
   "execution_count": 286,
   "id": "33c4d4e8",
   "metadata": {},
   "outputs": [],
   "source": [
    "f = open(\"glove-wiki-gigaword-50-details.csv\", \"w\")\n",
    "f.close()"
   ]
  },
  {
   "cell_type": "markdown",
   "id": "7bbfc399",
   "metadata": {},
   "source": [
    "### word2vec_twitr_50"
   ]
  },
  {
   "cell_type": "code",
   "execution_count": 287,
   "id": "29ee59ac",
   "metadata": {},
   "outputs": [],
   "source": [
    "total_correct = 0\n",
    "total_guess = 0\n",
    "\n",
    "f = open(\"glove-twitter-50-details.csv\", \"a\")\n",
    "\n",
    "for i, row in synonyms.iterrows():\n",
    "    answer = row[1]\n",
    "    question = row[0]\n",
    "    predict = row[(random.randint(2, 5))]\n",
    "    if(row[0] in vocab1):\n",
    "        q= np.array( [word2vec_twitr_50.similarity(question,  word ) if word in vocab1 else -1000 for word in (row[2:])] )\n",
    "        max =np.argmax(q)\n",
    "        if (q[max] != -1000):\n",
    "                predict = row[max+2]\n",
    "                if predict == answer:\n",
    "                    total_correct += 1\n",
    "                    f.write(question+\",\"+answer+\",\"+predict+\",correct\\n\")\n",
    "                    #print(f'{question},{answer},{predict},correct')\n",
    "                else:\n",
    "                    f.write(question+\",\"+answer+\",\"+predict+\",wrong\\n\")\n",
    "                    #print(f'{question},{answer},{predict},wrong')\n",
    "        else:\n",
    "            total_guess += 1\n",
    "            f.write(question+\",\"+answer+\",\"+predict+\",guess\\n\")\n",
    "            #print(f'{question},{answer},{predict},guess')\n",
    "            \n",
    "    else:\n",
    "        total_guess += 1\n",
    "        f.write(question+\",\"+answer+\",\"+predict+\",guess\\n\")\n",
    "        #print(f'{question},{answer},{predict},guess')\n",
    "                \n",
    "        \n",
    "f.close()        "
   ]
  },
  {
   "cell_type": "markdown",
   "id": "3258e2b8",
   "metadata": {},
   "source": [
    "###### Analysis of word2vec_twitr_50"
   ]
  },
  {
   "cell_type": "code",
   "execution_count": 288,
   "id": "deb91ba4",
   "metadata": {},
   "outputs": [
    {
     "name": "stdout",
     "output_type": "stream",
     "text": [
      "glove-twitter-50-details \n",
      "\n",
      "Vector Size : 50\n",
      "Vocab Size : 1193514\n",
      "Toatal correct : 36\n",
      "Answered without guessing : 78\n",
      "Accuracy: 0.46153846153846156\n"
     ]
    }
   ],
   "source": [
    "t50_model_name = \"glove-twitter-50-details\"\n",
    "t50_vector_size = len(word2vec_twitr_50[0])\n",
    "t50_vocab_size = len(vocab1)\n",
    "t50_total_no_guess = len(synonyms) - total_guess\n",
    "t50_accuracy = total_correct / total_no_guess\n",
    "t50_total_correct = total_correct\n",
    "\n",
    "print(f'{t50_model_name} \\n')\n",
    "print(f'Vector Size : {t50_vector_size}')\n",
    "print(f'Vocab Size : {t50_vocab_size}')\n",
    "print(f'Toatal correct : {t50_total_correct}') \n",
    "print(f'Answered without guessing : {t50_total_no_guess}')\n",
    "print(f'Accuracy: {t50_accuracy}')"
   ]
  },
  {
   "cell_type": "markdown",
   "id": "9be39f51",
   "metadata": {},
   "source": [
    "###### Output Analysys"
   ]
  },
  {
   "cell_type": "code",
   "execution_count": 289,
   "id": "cf1fd847",
   "metadata": {},
   "outputs": [],
   "source": [
    "f = open(\"analysis.csv\", \"a\")\n",
    "f.write(t50_model_name+\",\"+repr(t50_vocab_size)+\",\"+repr(t50_total_correct)+\",\"+repr(t50_total_no_guess)+\",\"+repr(t50_accuracy)+\"\\n\")\n",
    "f.close()"
   ]
  },
  {
   "cell_type": "markdown",
   "id": "fb462de9",
   "metadata": {},
   "source": [
    "### word2vec_wiki_50"
   ]
  },
  {
   "cell_type": "code",
   "execution_count": 290,
   "id": "f2bd4859",
   "metadata": {},
   "outputs": [],
   "source": [
    "total_correct = 0\n",
    "total_guess = 0\n",
    "\n",
    "f = open(\"glove-wiki-gigaword-50-details.csv\", \"a\")\n",
    "\n",
    "for i, row in synonyms.iterrows():\n",
    "    answer = row[1]\n",
    "    question = row[0]\n",
    "    predict = row[(random.randint(2, 5))]\n",
    "    if(row[0] in vocab2):\n",
    "        q= np.array( [word2vec_wiki_50.similarity(question,  word ) if word in vocab2 else -1000 for word in (row[2:])] )\n",
    "        max =np.argmax(q)\n",
    "        if (q[max] != -1000):\n",
    "                predict = row[max+2]\n",
    "                if predict == answer:\n",
    "                    total_correct += 1\n",
    "                    f.write(question+\",\"+answer+\",\"+predict+\",correct\\n\")\n",
    "                    #print(f'{question},{answer},{predict},correct')\n",
    "                else:\n",
    "                    f.write(question+\",\"+answer+\",\"+predict+\",wrong\\n\")\n",
    "                    #print(f'{question},{answer},{predict},wrong')\n",
    "        else:\n",
    "            total_guess += 1\n",
    "            f.write(question+\",\"+answer+\",\"+predict+\",guess\\n\")\n",
    "            #print(f'{question},{answer},{predict},guess')\n",
    "            \n",
    "    else:\n",
    "        total_guess += 1\n",
    "        f.write(question+\",\"+answer+\",\"+predict+\",guess\\n\")\n",
    "        #print(f'{question},{answer},{predict},guess')\n",
    "                \n",
    "        \n",
    "f.close()   "
   ]
  },
  {
   "cell_type": "markdown",
   "id": "f8ecd1f7",
   "metadata": {},
   "source": [
    "###### Analysis of word2vec_wiki_50"
   ]
  },
  {
   "cell_type": "code",
   "execution_count": 291,
   "id": "65632121",
   "metadata": {},
   "outputs": [
    {
     "name": "stdout",
     "output_type": "stream",
     "text": [
      "glove-wiki-gigaword-50-details \n",
      "\n",
      "Vector Size : 50\n",
      "Vocab Size : 400000\n",
      "Toatal correct : 57\n",
      "Answered without guessing : 80\n",
      "Accuracy: 0.7307692307692307\n"
     ]
    }
   ],
   "source": [
    "w50_model_name = \"glove-wiki-gigaword-50-details\"\n",
    "w50_vector_size = len(word2vec_wiki_50[0])\n",
    "w50_vocab_size = len(vocab2)\n",
    "w50_total_no_guess = len(synonyms) - total_guess\n",
    "w50_accuracy = total_correct / total_no_guess\n",
    "w50_total_correct=total_correct\n",
    "\n",
    "print(f'{w50_model_name} \\n')\n",
    "print(f'Vector Size : {w50_vector_size}')\n",
    "print(f'Vocab Size : {w50_vocab_size}')\n",
    "print(f'Toatal correct : {w50_total_correct}') \n",
    "print(f'Answered without guessing : {w50_total_no_guess}')\n",
    "print(f'Accuracy: {w50_accuracy}')"
   ]
  },
  {
   "cell_type": "markdown",
   "id": "f62eedc2",
   "metadata": {},
   "source": [
    "#### Output "
   ]
  },
  {
   "cell_type": "code",
   "execution_count": 292,
   "id": "f8ebe135",
   "metadata": {},
   "outputs": [],
   "source": [
    "f = open(\"analysis.csv\", \"a\")\n",
    "f.write(w50_model_name+\",\"+repr(w50_vocab_size)+\",\"+repr(w50_total_correct)+\",\"+repr(w50_total_no_guess)+\",\"+repr(w50_accuracy)+\"\\n\")\n",
    "f.close()"
   ]
  },
  {
   "cell_type": "markdown",
   "id": "fd23bc49",
   "metadata": {},
   "source": [
    "### Part 1 of task 2  (. 2 new models from the same corpus but different embedding sizes)"
   ]
  },
  {
   "cell_type": "markdown",
   "id": "7dc8bffb",
   "metadata": {},
   "source": [
    "### Loading the models"
   ]
  },
  {
   "cell_type": "code",
   "execution_count": 93,
   "id": "9bb847b6",
   "metadata": {},
   "outputs": [
    {
     "name": "stdout",
     "output_type": "stream",
     "text": [
      "[==================================================] 100.0% 104.8/104.8MB downloaded\n"
     ]
    }
   ],
   "source": [
    "word2vec_twitr_25 = api.load(\"glove-twitter-25\")"
   ]
  },
  {
   "cell_type": "code",
   "execution_count": 107,
   "id": "8c5caf47",
   "metadata": {},
   "outputs": [],
   "source": [
    "word2vec_twitr_200 = api.load(\"glove-twitter-200\")"
   ]
  },
  {
   "cell_type": "code",
   "execution_count": 293,
   "id": "5d2757ef",
   "metadata": {},
   "outputs": [],
   "source": [
    "vocab3 = word2vec_twitr_25.index_to_key \n",
    "vocab4 = word2vec_twitr_200.index_to_key "
   ]
  },
  {
   "cell_type": "markdown",
   "id": "443b7cde",
   "metadata": {},
   "source": [
    "#### Create output files"
   ]
  },
  {
   "cell_type": "code",
   "execution_count": 294,
   "id": "072e1e9e",
   "metadata": {},
   "outputs": [],
   "source": [
    "f = open(\"glove-twitter-25-details.csv\", \"w\")\n",
    "f.close()"
   ]
  },
  {
   "cell_type": "code",
   "execution_count": 295,
   "id": "7a4d891c",
   "metadata": {},
   "outputs": [],
   "source": [
    "f = open(\"glove-twitter-200-details.csv\", \"w\")\n",
    "f.close()"
   ]
  },
  {
   "cell_type": "markdown",
   "id": "b41493d9",
   "metadata": {},
   "source": [
    "### glove-twitter-25"
   ]
  },
  {
   "cell_type": "code",
   "execution_count": 296,
   "id": "98a4b0e4",
   "metadata": {},
   "outputs": [],
   "source": [
    "total_correct = 0\n",
    "total_guess = 0\n",
    "\n",
    "f = open(\"glove-twitter-25-details.csv\", \"a\")\n",
    "\n",
    "for i, row in synonyms.iterrows():\n",
    "    answer = row[1]\n",
    "    question = row[0]\n",
    "    predict = row[(random.randint(2, 5))]\n",
    "    if(row[0] in vocab3):\n",
    "        q= np.array( [word2vec_twitr_25.similarity(question,  word ) if word in vocab3 else -1000 for word in (row[2:])] )\n",
    "        max =np.argmax(q)\n",
    "        if (q[max] != -1000):\n",
    "                predict = row[max+2]\n",
    "                if predict == answer:\n",
    "                    total_correct += 1\n",
    "                    f.write(question+\",\"+answer+\",\"+predict+\",correct\\n\")\n",
    "                    #print(f'{question},{answer},{predict},correct')\n",
    "                else:\n",
    "                    f.write(question+\",\"+answer+\",\"+predict+\",wrong\\n\")\n",
    "                    #print(f'{question},{answer},{predict},wrong')\n",
    "        else:\n",
    "            total_guess += 1\n",
    "            f.write(question+\",\"+answer+\",\"+predict+\",guess\\n\")\n",
    "            #print(f'{question},{answer},{predict},guess')\n",
    "            \n",
    "    else:\n",
    "        total_guess += 1\n",
    "        f.write(question+\",\"+answer+\",\"+predict+\",guess\\n\")\n",
    "        #print(f'{question},{answer},{predict},guess')\n",
    "                \n",
    "        \n",
    "f.close()        "
   ]
  },
  {
   "cell_type": "markdown",
   "id": "6469ed31",
   "metadata": {},
   "source": [
    "###### Analysis of word2vec_wiki_25"
   ]
  },
  {
   "cell_type": "code",
   "execution_count": 297,
   "id": "a7b96fca",
   "metadata": {},
   "outputs": [
    {
     "name": "stdout",
     "output_type": "stream",
     "text": [
      "glove-twitter-25-details \n",
      "\n",
      "Vector Size : 25\n",
      "Vocab Size : 1193514\n",
      "Toatal correct : 36\n",
      "Answered without guessing : 78\n",
      "Accuracy: 0.46153846153846156\n"
     ]
    }
   ],
   "source": [
    "t25_model_name = \"glove-twitter-25-details\"\n",
    "t25_vector_size = len(word2vec_twitr_25 [0])\n",
    "t25_vocab_size = len(vocab3)\n",
    "t25_total_no_guess = len(synonyms) - total_guess\n",
    "t25_accuracy = total_correct / total_no_guess\n",
    "t25_total_correct=total_correct\n",
    "\n",
    "print(f'{t25_model_name} \\n')\n",
    "print(f'Vector Size : {t25_vector_size}')\n",
    "print(f'Vocab Size : {t25_vocab_size}')\n",
    "print(f'Toatal correct : {t25_total_correct}') \n",
    "print(f'Answered without guessing : {t25_total_no_guess}')\n",
    "print(f'Accuracy: {t25_accuracy}')"
   ]
  },
  {
   "cell_type": "code",
   "execution_count": null,
   "id": "37a7a645",
   "metadata": {},
   "outputs": [],
   "source": []
  },
  {
   "cell_type": "markdown",
   "id": "619ff6a6",
   "metadata": {},
   "source": [
    "###### Output Analysys"
   ]
  },
  {
   "cell_type": "code",
   "execution_count": 298,
   "id": "d22665b5",
   "metadata": {},
   "outputs": [],
   "source": [
    "f = open(\"analysis.csv\", \"a\")\n",
    "f.write(t25_model_name+\",\"+repr(t25_vocab_size)+\",\"+repr(t25_total_correct)+\",\"+repr(t25_total_no_guess)+\",\"+repr(t25_accuracy)+\"\\n\")\n",
    "f.close()"
   ]
  },
  {
   "cell_type": "markdown",
   "id": "1e2e1123",
   "metadata": {},
   "source": [
    "### glove-twitter-200"
   ]
  },
  {
   "cell_type": "code",
   "execution_count": 299,
   "id": "647f9796",
   "metadata": {},
   "outputs": [],
   "source": [
    "total_correct = 0\n",
    "total_guess = 0\n",
    "\n",
    "f = open(\"glove-twitter-200-details.csv\", \"a\")\n",
    "\n",
    "for i, row in synonyms.iterrows():\n",
    "    answer = row[1]\n",
    "    question = row[0]\n",
    "    predict = row[(random.randint(2, 5))]\n",
    "    if(row[0] in vocab4):\n",
    "        q= np.array( [word2vec_twitr_200.similarity(question,  word ) if word in vocab4 else -1000 for word in (row[2:])] )\n",
    "        max =np.argmax(q)\n",
    "        if (q[max] != -1000):\n",
    "                predict = row[max+2]\n",
    "                if predict == answer:\n",
    "                    total_correct += 1\n",
    "                    f.write(question+\",\"+answer+\",\"+predict+\",correct\\n\")\n",
    "                    #print(f'{question},{answer},{predict},correct')\n",
    "                else:\n",
    "                    f.write(question+\",\"+answer+\",\"+predict+\",wrong\\n\")\n",
    "                    #print(f'{question},{answer},{predict},wrong')\n",
    "        else:\n",
    "            total_guess += 1\n",
    "            f.write(question+\",\"+answer+\",\"+predict+\",guess\\n\")\n",
    "            #print(f'{question},{answer},{predict},guess')\n",
    "            \n",
    "    else:\n",
    "        total_guess += 1\n",
    "        f.write(question+\",\"+answer+\",\"+predict+\",guess\\n\")\n",
    "        #print(f'{question},{answer},{predict},guess')\n",
    "                \n",
    "        \n",
    "f.close()  "
   ]
  },
  {
   "cell_type": "markdown",
   "id": "fead0db9",
   "metadata": {},
   "source": [
    "###### Analysis of word2vec_wiki_200"
   ]
  },
  {
   "cell_type": "code",
   "execution_count": 300,
   "id": "65ab50d3",
   "metadata": {},
   "outputs": [
    {
     "name": "stdout",
     "output_type": "stream",
     "text": [
      "glove-twitter-200-details \n",
      "\n",
      "Vector Size : 200\n",
      "Vocab Size : 1193514\n",
      "Toatal correct : 44\n",
      "Answered without guessing : 78\n",
      "Accuracy: 0.5641025641025641\n"
     ]
    }
   ],
   "source": [
    "t200_model_name = \"glove-twitter-200-details\"\n",
    "t200_vector_size = len(word2vec_twitr_200[0])\n",
    "t200_vocab_size = len(vocab3)\n",
    "t200_total_no_guess = len(synonyms) - total_guess\n",
    "t200_accuracy = total_correct / total_no_guess\n",
    "t200_total_correct = total_correct\n",
    "\n",
    "print(f'{t200_model_name} \\n')\n",
    "print(f'Vector Size : {t200_vector_size}')\n",
    "print(f'Vocab Size : {t200_vocab_size}')\n",
    "print(f'Toatal correct : {t200_total_correct}') \n",
    "print(f'Answered without guessing : {t200_total_no_guess}')\n",
    "print(f'Accuracy: {t200_accuracy}')"
   ]
  },
  {
   "cell_type": "markdown",
   "id": "c082c0b9",
   "metadata": {},
   "source": [
    "###### Output Analysis Analysis of word2vec_wiki_200"
   ]
  },
  {
   "cell_type": "code",
   "execution_count": 301,
   "id": "45a9dbbf",
   "metadata": {},
   "outputs": [],
   "source": [
    "f = open(\"analysis.csv\", \"a\")\n",
    "f.write(t200_model_name+\",\"+repr(t200_vocab_size)+\",\"+repr(t200_total_correct)+\",\"+repr(t200_total_no_guess)+\",\"+repr(t200_accuracy)+\"\\n\")\n",
    "f.close()"
   ]
  },
  {
   "cell_type": "markdown",
   "id": "1fe1385d",
   "metadata": {},
   "source": [
    "## Random "
   ]
  },
  {
   "cell_type": "code",
   "execution_count": 302,
   "id": "7d64741b",
   "metadata": {},
   "outputs": [],
   "source": [
    "f = open(\"Random-details.csv\", \"w\")\n",
    "f.close()"
   ]
  },
  {
   "cell_type": "code",
   "execution_count": 303,
   "id": "d6a29fb5",
   "metadata": {},
   "outputs": [],
   "source": [
    "total_correct = 0\n",
    "total_guess = 0\n",
    "\n",
    "f = open(\"Random-details.csv\", \"a\")\n",
    "\n",
    "for i, row in synonyms.iterrows():\n",
    "    answer = row[1]\n",
    "    question = row[0]\n",
    "    predict = row[(random.randint(2, 5))]\n",
    "\n",
    "    if predict == answer:\n",
    "        total_correct += 1\n",
    "        f.write(question+\",\"+answer+\",\"+predict+\",correct\\n\")\n",
    "        #print(f'{question},{answer},{predict},correct')\n",
    "    else:\n",
    "        f.write(question+\",\"+answer+\",\"+predict+\",wrong\\n\")\n",
    "        #print(f'{question},{answer},{predict},wrong')\n",
    "\n",
    "                \n",
    "        \n",
    "f.close()"
   ]
  },
  {
   "cell_type": "code",
   "execution_count": 304,
   "id": "595a3d49",
   "metadata": {},
   "outputs": [
    {
     "name": "stdout",
     "output_type": "stream",
     "text": [
      "Random-details \n",
      "\n",
      "Toatal correct : 20\n",
      "Accuracy: 0.25\n"
     ]
    }
   ],
   "source": [
    "rand_model_name = \"Random-details\"\n",
    "\n",
    "rand_accuracy = total_correct / len(synonyms)\n",
    "rand_total_correct = total_correct\n",
    "\n",
    "print(f'{rand_model_name} \\n')\n",
    "print(f'Toatal correct : {rand_total_correct}') \n",
    "print(f'Accuracy: {rand_accuracy}')"
   ]
  },
  {
   "cell_type": "markdown",
   "id": "a2e66d11",
   "metadata": {},
   "source": [
    "## Comparision"
   ]
  },
  {
   "cell_type": "code",
   "execution_count": 309,
   "id": "6d1c88bb",
   "metadata": {},
   "outputs": [
    {
     "data": {
      "image/png": "[encoded data removed]",
      "text/plain": [
       "<Figure size 3600x720 with 1 Axes>"
      ]
     },
     "metadata": {
      "needs_background": "light"
     },
     "output_type": "display_data"
    }
   ],
   "source": [
    "models = [model_name, t50_model_name, w50_model_name, t25_model_name, t200_model_name ]\n",
    "Acuracies = [g300_accuracy, t50_accuracy, w50_accuracy, t25_accuracy,t200_accuracy]\n",
    "\n",
    "plt.figure(figsize=(50, 10))\n",
    "\n",
    "plt.subplot(131)\n",
    "plt.bar(models, Acuracies)\n",
    "plt.suptitle('Models Accuracies')\n",
    "plt.axhline(y=0.8557, color='g', linestyle='dotted', label=\"Human goal\")\n",
    "plt.axhline(y=rand_accuracy, color='r', linestyle='dotted', label=\"Random\")\n",
    "plt.legend()\n",
    "\n",
    "plt.show()"
   ]
  },
  {
   "cell_type": "code",
   "execution_count": 306,
   "id": "cb10e707",
   "metadata": {},
   "outputs": [],
   "source": [
    "anlys = pd.read_csv('analysis.csv', delimiter=',') "
   ]
  },
  {
   "cell_type": "code",
   "execution_count": 307,
   "id": "5ea16b02",
   "metadata": {},
   "outputs": [
    {
     "data": {
      "text/html": [
       "<div>\n",
       "<style scoped>\n",
       "    .dataframe tbody tr th:only-of-type {\n",
       "        vertical-align: middle;\n",
       "    }\n",
       "\n",
       "    .dataframe tbody tr th {\n",
       "        vertical-align: top;\n",
       "    }\n",
       "\n",
       "    .dataframe thead th {\n",
       "        text-align: right;\n",
       "    }\n",
       "</style>\n",
       "<table border=\"1\" class=\"dataframe\">\n",
       "  <thead>\n",
       "    <tr style=\"text-align: right;\">\n",
       "      <th></th>\n",
       "      <th>model</th>\n",
       "      <th>Vocab Size</th>\n",
       "      <th>correc label</th>\n",
       "      <th>answered without guessing</th>\n",
       "      <th>accuracy</th>\n",
       "    </tr>\n",
       "  </thead>\n",
       "  <tbody>\n",
       "    <tr>\n",
       "      <th>0</th>\n",
       "      <td>word2vec-google-news-300</td>\n",
       "      <td>3000000</td>\n",
       "      <td>70</td>\n",
       "      <td>79</td>\n",
       "      <td>0.897436</td>\n",
       "    </tr>\n",
       "    <tr>\n",
       "      <th>1</th>\n",
       "      <td>glove-twitter-50-details</td>\n",
       "      <td>1193514</td>\n",
       "      <td>36</td>\n",
       "      <td>78</td>\n",
       "      <td>0.461538</td>\n",
       "    </tr>\n",
       "    <tr>\n",
       "      <th>2</th>\n",
       "      <td>glove-wiki-gigaword-50-details</td>\n",
       "      <td>400000</td>\n",
       "      <td>57</td>\n",
       "      <td>80</td>\n",
       "      <td>0.730769</td>\n",
       "    </tr>\n",
       "    <tr>\n",
       "      <th>3</th>\n",
       "      <td>glove-twitter-25-details</td>\n",
       "      <td>1193514</td>\n",
       "      <td>36</td>\n",
       "      <td>78</td>\n",
       "      <td>0.461538</td>\n",
       "    </tr>\n",
       "    <tr>\n",
       "      <th>4</th>\n",
       "      <td>glove-twitter-200-details</td>\n",
       "      <td>1193514</td>\n",
       "      <td>44</td>\n",
       "      <td>78</td>\n",
       "      <td>0.564103</td>\n",
       "    </tr>\n",
       "  </tbody>\n",
       "</table>\n",
       "</div>"
      ],
      "text/plain": [
       "                            model  Vocab Size  correc label  \\\n",
       "0        word2vec-google-news-300     3000000            70   \n",
       "1        glove-twitter-50-details     1193514            36   \n",
       "2  glove-wiki-gigaword-50-details      400000            57   \n",
       "3        glove-twitter-25-details     1193514            36   \n",
       "4       glove-twitter-200-details     1193514            44   \n",
       "\n",
       "   answered without guessing  accuracy  \n",
       "0                         79  0.897436  \n",
       "1                         78  0.461538  \n",
       "2                         80  0.730769  \n",
       "3                         78  0.461538  \n",
       "4                         78  0.564103  "
      ]
     },
     "execution_count": 307,
     "metadata": {},
     "output_type": "execute_result"
    }
   ],
   "source": [
    "anlys.head(7)"
   ]
  },
  {
   "cell_type": "markdown",
   "id": "fcea62b2",
   "metadata": {},
   "source": [
    "As We can see eventhough twitter50 has more unique words compared to Wiki50 it still has lower accuracy\n",
    "and that because in twitter documents words has not nessasarily been used gramatically corect or even i meanigfull way that represent the word actuall meaning whereas on wikipedia words aremore likely to be used in its correct format and thtas why with even lower vocab size we get better acuracy for this set of words\n",
    "\n",
    "On the other hand we see that increasing the embading size can also result in some improvment s and the reason is more weight being used to determind the meaning of  a word \n"
   ]
  },
  {
   "cell_type": "markdown",
   "id": "e7bc0e51",
   "metadata": {},
   "source": [
    "## Thank you"
   ]
  },
  {
   "cell_type": "code",
   "execution_count": null,
   "id": "7c3adee7",
   "metadata": {},
   "outputs": [],
   "source": []
  }
 ],
 "metadata": {
  "kernelspec": {
   "display_name": "Python 3 (ipykernel)",
   "language": "python",
   "name": "python3"
  },
  "language_info": {
   "codemirror_mode": {
    "name": "ipython",
    "version": 3
   },
   "file_extension": ".py",
   "mimetype": "text/x-python",
   "name": "python",
   "nbconvert_exporter": "python",
   "pygments_lexer": "ipython3",
   "version": "3.8.12"
  }
 },
 "nbformat": 4,
 "nbformat_minor": 5
}
