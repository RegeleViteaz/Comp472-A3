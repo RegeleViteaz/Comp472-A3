{
 "cells": [
  {
   "cell_type": "markdown",
   "id": "6c986d23",
   "metadata": {},
   "source": [
    "# Mini-Project 3"
   ]
  },
  {
   "cell_type": "code",
   "execution_count": 20,
   "id": "6dd5882a",
   "metadata": {},
   "outputs": [],
   "source": [
    "import gensim\n",
    "import gensim.downloader as api  # load \n",
    "from gensim.similarities import Similarity #\n",
    "import pandas as pd"
   ]
  },
  {
   "cell_type": "markdown",
   "id": "96ff65f1",
   "metadata": {},
   "source": [
    "## Loading Data"
   ]
  },
  {
   "cell_type": "markdown",
   "id": "9f40d26a",
   "metadata": {},
   "source": [
    "### Load the word2vec-google-news-300 pretrained embedding model"
   ]
  },
  {
   "cell_type": "code",
   "execution_count": 3,
   "id": "642be64d",
   "metadata": {},
   "outputs": [],
   "source": [
    "word2vec_300 =api.load(\"word2vec-google-news-300\")"
   ]
  },
  {
   "cell_type": "markdown",
   "id": "d9492f4a",
   "metadata": {},
   "source": [
    "### Loading synonyms"
   ]
  },
  {
   "cell_type": "code",
   "execution_count": 24,
   "id": "d3b533ce",
   "metadata": {},
   "outputs": [],
   "source": [
    "synonyms = pd.read_csv(\"synonyms.csv\")"
   ]
  },
  {
   "cell_type": "code",
   "execution_count": 29,
   "id": "4bf61da7",
   "metadata": {},
   "outputs": [
    {
     "data": {
      "text/html": [
       "<div>\n",
       "<style scoped>\n",
       "    .dataframe tbody tr th:only-of-type {\n",
       "        vertical-align: middle;\n",
       "    }\n",
       "\n",
       "    .dataframe tbody tr th {\n",
       "        vertical-align: top;\n",
       "    }\n",
       "\n",
       "    .dataframe thead th {\n",
       "        text-align: right;\n",
       "    }\n",
       "</style>\n",
       "<table border=\"1\" class=\"dataframe\">\n",
       "  <thead>\n",
       "    <tr style=\"text-align: right;\">\n",
       "      <th></th>\n",
       "      <th>question</th>\n",
       "      <th>answer</th>\n",
       "      <th>0</th>\n",
       "      <th>1</th>\n",
       "      <th>2</th>\n",
       "      <th>3</th>\n",
       "    </tr>\n",
       "  </thead>\n",
       "  <tbody>\n",
       "    <tr>\n",
       "      <th>0</th>\n",
       "      <td>enormously</td>\n",
       "      <td>tremendously</td>\n",
       "      <td>appropriately</td>\n",
       "      <td>uniquely</td>\n",
       "      <td>tremendously</td>\n",
       "      <td>decidedly</td>\n",
       "    </tr>\n",
       "    <tr>\n",
       "      <th>1</th>\n",
       "      <td>provisions</td>\n",
       "      <td>stipulations</td>\n",
       "      <td>stipulations</td>\n",
       "      <td>interrelations</td>\n",
       "      <td>jurisdictions</td>\n",
       "      <td>interpretations</td>\n",
       "    </tr>\n",
       "    <tr>\n",
       "      <th>2</th>\n",
       "      <td>haphazardly</td>\n",
       "      <td>randomly</td>\n",
       "      <td>dangerously</td>\n",
       "      <td>densely</td>\n",
       "      <td>randomly</td>\n",
       "      <td>linearly</td>\n",
       "    </tr>\n",
       "    <tr>\n",
       "      <th>3</th>\n",
       "      <td>prominent</td>\n",
       "      <td>conspicuous</td>\n",
       "      <td>battered</td>\n",
       "      <td>ancient</td>\n",
       "      <td>mysterious</td>\n",
       "      <td>conspicuous</td>\n",
       "    </tr>\n",
       "    <tr>\n",
       "      <th>4</th>\n",
       "      <td>zenith</td>\n",
       "      <td>pinnacle</td>\n",
       "      <td>completion</td>\n",
       "      <td>pinnacle</td>\n",
       "      <td>outset</td>\n",
       "      <td>decline</td>\n",
       "    </tr>\n",
       "  </tbody>\n",
       "</table>\n",
       "</div>"
      ],
      "text/plain": [
       "      question        answer              0               1              2  \\\n",
       "0   enormously  tremendously  appropriately        uniquely   tremendously   \n",
       "1   provisions  stipulations   stipulations  interrelations  jurisdictions   \n",
       "2  haphazardly      randomly    dangerously         densely       randomly   \n",
       "3    prominent   conspicuous       battered         ancient     mysterious   \n",
       "4       zenith      pinnacle     completion        pinnacle         outset   \n",
       "\n",
       "                 3  \n",
       "0        decidedly  \n",
       "1  interpretations  \n",
       "2         linearly  \n",
       "3      conspicuous  \n",
       "4          decline  "
      ]
     },
     "execution_count": 29,
     "metadata": {},
     "output_type": "execute_result"
    }
   ],
   "source": [
    "synonyms.head()"
   ]
  },
  {
   "cell_type": "markdown",
   "id": "341a172a",
   "metadata": {},
   "source": [
    "## Similarities"
   ]
  },
  {
   "cell_type": "code",
   "execution_count": 48,
   "id": "057a1df3",
   "metadata": {},
   "outputs": [
    {
     "name": "stdout",
     "output_type": "stream",
     "text": [
      "Question :enormously ==> Answer: appropriately\n",
      "0.16631228\n",
      "0.34684694\n",
      "0.8185792\n",
      "0.2649879\n"
     ]
    }
   ],
   "source": [
    "# todo for loop throgh all questienions \n",
    "for word  in range(2,6) :\n",
    "    if (word == 2):\n",
    "        print(f'Question :{synonyms.iloc[0,:][0]} ==> Answer: {synonyms.iloc[0,:][word]}')\n",
    "#  todo   list()\n",
    "# todo print the word it self and rthe cosie\n",
    "    print (word2vec_300.similarity(synonyms.iloc[0,:][0], synonyms.iloc[0,:][word]  ))\n",
    "#  todo  find the max in list => it is our answer\n"
   ]
  },
  {
   "cell_type": "code",
   "execution_count": 25,
   "id": "e01a1d19",
   "metadata": {},
   "outputs": [
    {
     "data": {
      "text/plain": [
       "[('vehicle', 0.7821096181869507),\n",
       " ('cars', 0.7423830032348633),\n",
       " ('SUV', 0.7160962224006653),\n",
       " ('minivan', 0.6907036304473877),\n",
       " ('truck', 0.6735789775848389),\n",
       " ('Car', 0.6677608489990234),\n",
       " ('Ford_Focus', 0.6673202514648438),\n",
       " ('Honda_Civic', 0.6626849174499512),\n",
       " ('Jeep', 0.651133120059967),\n",
       " ('pickup_truck', 0.6441437602043152)]"
      ]
     },
     "execution_count": 25,
     "metadata": {},
     "output_type": "execute_result"
    }
   ],
   "source": [
    "word2vec_300.most_similar(\"car\")"
   ]
  },
  {
   "cell_type": "code",
   "execution_count": 26,
   "id": "8527f80e",
   "metadata": {},
   "outputs": [
    {
     "data": {
      "text/plain": [
       "1.0"
      ]
     },
     "execution_count": 26,
     "metadata": {},
     "output_type": "execute_result"
    }
   ],
   "source": [
    "word2vec_300.similarity('car', 'car'  )\n"
   ]
  },
  {
   "cell_type": "code",
   "execution_count": 27,
   "id": "ec91378f",
   "metadata": {},
   "outputs": [
    {
     "data": {
      "text/plain": [
       "0.43913448"
      ]
     },
     "execution_count": 27,
     "metadata": {},
     "output_type": "execute_result"
    }
   ],
   "source": [
    "word2vec_300.similarity('car', 'Auto'  ) #?"
   ]
  },
  {
   "cell_type": "code",
   "execution_count": 28,
   "id": "f0616037",
   "metadata": {},
   "outputs": [
    {
     "name": "stdout",
     "output_type": "stream",
     "text": [
      "       question        answer              0               1              2  \\\n",
      "0    enormously  tremendously  appropriately        uniquely   tremendously   \n",
      "1    provisions  stipulations   stipulations  interrelations  jurisdictions   \n",
      "2   haphazardly      randomly    dangerously         densely       randomly   \n",
      "3     prominent   conspicuous       battered         ancient     mysterious   \n",
      "4        zenith      pinnacle     completion        pinnacle         outset   \n",
      "..          ...           ...            ...             ...            ...   \n",
      "75      fashion        manner         ration          fathom          craze   \n",
      "76     marketed          sold         frozen            sold      sweetened   \n",
      "77       bigger        larger       steadier          closer         larger   \n",
      "78        roots       origins        origins         rituals           cure   \n",
      "79     normally    ordinarily      haltingly      ordinarily    permanently   \n",
      "\n",
      "                  3  \n",
      "0         decidedly  \n",
      "1   interpretations  \n",
      "2          linearly  \n",
      "3       conspicuous  \n",
      "4           decline  \n",
      "..              ...  \n",
      "75           manner  \n",
      "76          diluted  \n",
      "77           better  \n",
      "78         function  \n",
      "79     periodically  \n",
      "\n",
      "[80 rows x 6 columns]\n"
     ]
    }
   ],
   "source": [
    "print()"
   ]
  },
  {
   "cell_type": "code",
   "execution_count": null,
   "id": "96274c66",
   "metadata": {},
   "outputs": [],
   "source": []
  }
 ],
 "metadata": {
  "kernelspec": {
   "display_name": "Python 3 (ipykernel)",
   "language": "python",
   "name": "python3"
  },
  "language_info": {
   "codemirror_mode": {
    "name": "ipython",
    "version": 3
   },
   "file_extension": ".py",
   "mimetype": "text/x-python",
   "name": "python",
   "nbconvert_exporter": "python",
   "pygments_lexer": "ipython3",
   "version": "3.8.12"
  }
 },
 "nbformat": 4,
 "nbformat_minor": 5
}
