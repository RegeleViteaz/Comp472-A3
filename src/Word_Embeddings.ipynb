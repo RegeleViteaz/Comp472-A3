{
 "cells": [
  {
   "cell_type": "markdown",
   "id": "6c986d23",
   "metadata": {},
   "source": [
    "# Mini-Project 3"
   ]
  },
  {
   "cell_type": "code",
   "execution_count": 1,
   "id": "6dd5882a",
   "metadata": {},
   "outputs": [],
   "source": [
    "import gensim\n",
    "import gensim.downloader as api"
   ]
  },
  {
   "cell_type": "markdown",
   "id": "9f40d26a",
   "metadata": {},
   "source": [
    "## Load the word2vec-google-news-300 pretrained embedding model"
   ]
  },
  {
   "cell_type": "code",
   "execution_count": 2,
   "id": "642be64d",
   "metadata": {},
   "outputs": [
    {
     "data": {
      "text/plain": [
       "<gensim.models.keyedvectors.KeyedVectors at 0x1b20f284fd0>"
      ]
     },
     "execution_count": 2,
     "metadata": {},
     "output_type": "execute_result"
    }
   ],
   "source": [
    "api.load(\"word2vec-google-news-300\")"
   ]
  },
  {
   "cell_type": "code",
   "execution_count": null,
   "id": "e01a1d19",
   "metadata": {},
   "outputs": [],
   "source": []
  }
 ],
 "metadata": {
  "kernelspec": {
   "display_name": "Python 3 (ipykernel)",
   "language": "python",
   "name": "python3"
  },
  "language_info": {
   "codemirror_mode": {
    "name": "ipython",
    "version": 3
   },
   "file_extension": ".py",
   "mimetype": "text/x-python",
   "name": "python",
   "nbconvert_exporter": "python",
   "pygments_lexer": "ipython3",
   "version": "3.8.12"
  }
 },
 "nbformat": 4,
 "nbformat_minor": 5
}
